{
 "cells": [
  {
   "cell_type": "code",
   "execution_count": null,
   "metadata": {},
   "outputs": [],
   "source": [
    "import sys\n",
    "import time\n",
    "import functools\n",
    "import random\n",
    "import string\n",
    "from typing import List, "
   ]
  },
  {
   "cell_type": "code",
   "execution_count": null,
   "metadata": {},
   "outputs": [],
   "source": [
    "def build_suffix_array_naive(text):\n",
    "    \"\"\"\n",
    "    Construye el arreglo de sufijos generando explícitamente cada sufijo.\n",
    "    (Esta versión es muy ineficiente en espacio para textos grandes.)\n",
    "    \"\"\"\n",
    "    suffixes = [(text[i:], i) for i in range(len(text))]\n",
    "    suffixes.sort(key=lambda x: x[0])\n",
    "    return [pos for (_, pos) in suffixes]\n",
    "\n",
    "def build_suffix_array(text):\n",
    "    \"\"\"\n",
    "    Construye el arreglo de sufijos de forma mejorada, es decir, ordenando las posiciones\n",
    "    sin generar explícitamente la cadena del sufijo.\n",
    "    Se define un comparador que compara carácter a carácter.\n",
    "    \"\"\"\n",
    "    def cmp(i, j):\n",
    "        n = len(text)\n",
    "        # Comparar carácter a carácter\n",
    "        while i < n and j < n:\n",
    "            if text[i] != text[j]:\n",
    "                return -1 if text[i] < text[j] else 1\n",
    "            i += 1\n",
    "            j += 1\n",
    "        # Si se alcanza el final de uno, el sufijo más corto es menor\n",
    "        if i == n and j == n:\n",
    "            return 0\n",
    "        return -1 if i == n else 1"
   ]
  },
  {
   "cell_type": "code",
   "execution_count": null,
   "metadata": {},
   "outputs": [],
   "source": [
    "def build_suffix_array(text: str) -> List[int]:\n",
    "    \"\"\"\n",
    "    Construye el arreglo de sufijos de forma eficiente usando el algoritmo de ordenamiento\n",
    "    basado en comparación de prefijos.\n",
    "    \n",
    "    Esta implementación evita la generación explícita de subcadenas durante la comparación,\n",
    "    lo que la hace mucho más eficiente en memoria para textos grandes.\n",
    "    \"\"\"\n",
    "    def compare_suffixes(i: int, j: int) -> int:\n",
    "        \"\"\"Compara dos sufijos que comienzan en las posiciones i y j del texto.\"\"\"\n",
    "        n = len(text)\n",
    "        # Comparar carácter a carácter sin generar subcadenas completas\n",
    "        while i < n and j < n:\n",
    "            if text[i] != text[j]:\n",
    "                return -1 if text[i] < text[j] else 1\n",
    "            i += 1\n",
    "            j += 1\n",
    "        # Si uno de los sufijos llega al final, el más corto es lexicográficamente menor\n",
    "        return -1 if i == n else 1 if j == n else 0\n",
    "    \n",
    "    # Usar sorted() con functools.cmp_to_key para ordenar las posiciones\n",
    "    # sin generar las subcadenas completas\n",
    "    positions = list(range(len(text)))\n",
    "    return sorted(positions, key=functools.cmp_to_key(compare_suffixes))\n",
    "\n",
    "\n",
    "\n",
    "def find_occurrences(text: str, suffix_array: List[int], query: str) -> List[int]:\n",
    "    \"\"\"\n",
    "    Encuentra todas las ocurrencias de la consulta en el texto usando el arreglo de sufijos.\n",
    "    \n",
    "    Retorna una lista de posiciones donde aparece la consulta en el texto.\n",
    "    Utiliza búsqueda binaria para encontrar el rango de sufijos que comienzan con la consulta.\n",
    "    \"\"\"\n",
    "    if not query:\n",
    "        return []\n",
    "    \n",
    "    n, m = len(text), len(query)\n",
    "    \n",
    "    # Función para comparar un sufijo con la consulta\n",
    "    def compare_with_query(pos: int) -> int:\n",
    "        \"\"\"Compara el sufijo que comienza en pos con la consulta.\"\"\"\n",
    "        for i in range(m):\n",
    "            # Si alcanzamos el final del texto, el sufijo es menor que la consulta\n",
    "            if pos + i >= n:\n",
    "                return -1\n",
    "            # Comparar carácter a carácter\n",
    "            if text[pos + i] != query[i]:\n",
    "                return -1 if text[pos + i] < query[i] else 1\n",
    "        # El sufijo comienza con la consulta\n",
    "        return 0\n",
    "    \n",
    "    # Buscar el límite inferior (primer sufijo que comienza con la consulta)\n",
    "    left, right = 0, len(suffix_array)\n",
    "    while left < right:\n",
    "        mid = (left + right) // 2\n",
    "        suffix_pos = suffix_array[mid]\n",
    "        if compare_with_query(suffix_pos) < 0:\n",
    "            left = mid + 1\n",
    "        else:\n",
    "            right = mid\n",
    "    \n",
    "    # Si no se encontró ningún sufijo que comience con la consulta\n",
    "    if left == len(suffix_array) or compare_with_query(suffix_array[left]) != 0:\n",
    "        return []\n",
    "    \n",
    "    start = left\n",
    "    \n",
    "    # Buscar el límite superior (primer sufijo que no comienza con la consulta)\n",
    "    left, right = start, len(suffix_array)\n",
    "    while left < right:\n",
    "        mid = (left + right) // 2\n",
    "        suffix_pos = suffix_array[mid]\n",
    "        if compare_with_query(suffix_pos) == 0:\n",
    "            left = mid + 1\n",
    "        else:\n",
    "            right = mid\n",
    "    \n",
    "    end = left\n",
    "    \n",
    "    # Retornar todas las posiciones encontradas\n",
    "    return [suffix_array[i] for i in range(start, end)]\n",
    "\n",
    "\n",
    "\n",
    "def run_experiments():\n",
    "    \"\"\"\n",
    "    Realiza pruebas con textos sintéticos de diferentes tamaños y número de consultas.\n",
    "    Imprime una tabla con los tiempos de ejecución.\n",
    "    \"\"\"\n",
    "    # Definir tamaños de texto y cantidad de consultas\n",
    "    text_sizes = [100_000, 1_000_000, 10_000_000]\n",
    "    query_counts = [1_000, 10_000, 100_000, 1_000_000]\n",
    "    \n",
    "    print(\"\\nEjecutando experimentos de rendimiento:\")\n",
    "    print(\"=\" * 80)\n",
    "    print(f\"{'Tamaño texto':<15} {'Num consultas':<15} {'Tiempo SA (s)':<15} {'Tiempo consultas (s)':<20} {'Tiempo total (s)':<15}\")\n",
    "    print(\"-\" * 80)\n",
    "    \n",
    "    for text_size in text_sizes:\n",
    "        # Generar texto aleatorio (letras minúsculas y espacios)\n",
    "        print(f\"Generando texto aleatorio de {text_size} caracteres...\", file=sys.stderr)\n",
    "        text = ''.join(random.choices(string.ascii_lowercase + ' ', k=text_size))\n",
    "        \n",
    "        # Construir el arreglo de sufijos una vez por cada tamaño de texto\n",
    "        t0 = time.perf_counter()\n",
    "        suffix_array = build_suffix_array(text)\n",
    "        t1 = time.perf_counter()\n",
    "        sa_time = t1 - t0\n",
    "        \n",
    "        for qc in query_counts:\n",
    "            # Generar consultas aleatorias (subcadenas del texto)\n",
    "            print(f\"Generando {qc} consultas aleatorias...\", file=sys.stderr)\n",
    "            queries = []\n",
    "            for _ in range(qc):\n",
    "                query_len = random.randint(1, 10)\n",
    "                start_index = random.randint(0, text_size - query_len - 1)\n",
    "                query = text[start_index:start_index + query_len]\n",
    "                queries.append(query)\n",
    "            \n",
    "            # Medir tiempo de procesamiento de consultas\n",
    "            t0_query = time.perf_counter()\n",
    "            for query in queries:\n",
    "                _ = find_occurrences(text, suffix_array, query)\n",
    "            t1_query = time.perf_counter()\n",
    "            query_time = t1_query - t0_query\n",
    "            \n",
    "            total_time = sa_time + query_time\n",
    "            print(f\"{text_size:<15} {qc:<15} {sa_time:<15.3f} {query_time:<20.3f} {total_time:<15.3f}\")\n",
    "    \n",
    "    print(\"=\" * 80)\n",
    "\n",
    "# ----------------------------------------\n",
    "# Ejecución del programa\n",
    "# ----------------------------------------\n"
   ]
  },
  {
   "cell_type": "code",
   "execution_count": 3,
   "metadata": {},
   "outputs": [
    {
     "name": "stdout",
     "output_type": "stream",
     "text": [
      "\n",
      "Ejecutando experimentos de rendimiento:\n",
      "================================================================================\n",
      "Tamaño texto    Num consultas   Tiempo SA (s)   Tiempo consultas (s) Tiempo total (s)\n",
      "--------------------------------------------------------------------------------\n"
     ]
    },
    {
     "name": "stderr",
     "output_type": "stream",
     "text": [
      "Generando texto aleatorio de 100000 caracteres...\n",
      "Generando 1000 consultas aleatorias...\n",
      "Generando 10000 consultas aleatorias...\n"
     ]
    },
    {
     "name": "stdout",
     "output_type": "stream",
     "text": [
      "100000          1000            0.336           0.021                0.357          \n",
      "100000          10000           0.336           0.200                0.535          \n"
     ]
    },
    {
     "name": "stderr",
     "output_type": "stream",
     "text": [
      "Generando 100000 consultas aleatorias...\n"
     ]
    },
    {
     "name": "stdout",
     "output_type": "stream",
     "text": [
      "100000          100000          0.336           1.942                2.278          \n"
     ]
    },
    {
     "name": "stderr",
     "output_type": "stream",
     "text": [
      "Generando 1000000 consultas aleatorias...\n"
     ]
    },
    {
     "name": "stdout",
     "output_type": "stream",
     "text": [
      "100000          1000000         0.336           19.429               19.765         \n"
     ]
    },
    {
     "name": "stderr",
     "output_type": "stream",
     "text": [
      "Generando texto aleatorio de 1000000 caracteres...\n",
      "Generando 1000 consultas aleatorias...\n"
     ]
    },
    {
     "name": "stdout",
     "output_type": "stream",
     "text": [
      "1000000         1000            4.494           0.287                4.781          \n"
     ]
    },
    {
     "name": "stderr",
     "output_type": "stream",
     "text": [
      "Generando 10000 consultas aleatorias...\n"
     ]
    },
    {
     "name": "stdout",
     "output_type": "stream",
     "text": [
      "1000000         10000           4.494           2.568                7.062          \n"
     ]
    },
    {
     "name": "stderr",
     "output_type": "stream",
     "text": [
      "Generando 100000 consultas aleatorias...\n"
     ]
    },
    {
     "name": "stdout",
     "output_type": "stream",
     "text": [
      "1000000         100000          4.494           25.387               29.881         \n"
     ]
    },
    {
     "name": "stderr",
     "output_type": "stream",
     "text": [
      "Generando 1000000 consultas aleatorias...\n"
     ]
    },
    {
     "name": "stdout",
     "output_type": "stream",
     "text": [
      "1000000         1000000         4.494           261.468              265.962        \n"
     ]
    },
    {
     "name": "stderr",
     "output_type": "stream",
     "text": [
      "Generando texto aleatorio de 10000000 caracteres...\n",
      "Generando 1000 consultas aleatorias...\n"
     ]
    },
    {
     "name": "stdout",
     "output_type": "stream",
     "text": [
      "10000000        1000            63.689          2.723                66.412         \n"
     ]
    },
    {
     "name": "stderr",
     "output_type": "stream",
     "text": [
      "Generando 10000 consultas aleatorias...\n"
     ]
    },
    {
     "name": "stdout",
     "output_type": "stream",
     "text": [
      "10000000        10000           63.689          28.090               91.779         \n"
     ]
    },
    {
     "name": "stderr",
     "output_type": "stream",
     "text": [
      "Generando 100000 consultas aleatorias...\n"
     ]
    },
    {
     "name": "stdout",
     "output_type": "stream",
     "text": [
      "10000000        100000          63.689          279.458              343.147        \n"
     ]
    },
    {
     "name": "stderr",
     "output_type": "stream",
     "text": [
      "Generando 1000000 consultas aleatorias...\n"
     ]
    },
    {
     "name": "stdout",
     "output_type": "stream",
     "text": [
      "10000000        1000000         63.689          2810.046             2873.735       \n",
      "================================================================================\n"
     ]
    }
   ],
   "source": [
    "run_experiments()"
   ]
  },
  {
   "cell_type": "code",
   "execution_count": null,
   "metadata": {},
   "outputs": [],
   "source": [
    "'''\n",
    "Ejecutando experimentos de rendimiento:\n",
    "================================================================================\n",
    "Tamaño texto    Num consultas   Tiempo SA (s)   Tiempo consultas (s) Tiempo total (s)\n",
    "--------------------------------------------------------------------------------\n",
    "Generando texto aleatorio de 100000 caracteres...\n",
    "Generando 1000 consultas aleatorias...\n",
    "Generando 10000 consultas aleatorias...\n",
    "100000          1000            0.336           0.021                0.357          \n",
    "100000          10000           0.336           0.200                0.535          \n",
    "Generando 100000 consultas aleatorias...\n",
    "100000          100000          0.336           1.942                2.278          \n",
    "Generando 1000000 consultas aleatorias...\n",
    "100000          1000000         0.336           19.429               19.765         \n",
    "Generando texto aleatorio de 1000000 caracteres...\n",
    "Generando 1000 consultas aleatorias...\n",
    "1000000         1000            4.494           0.287                4.781          \n",
    "Generando 10000 consultas aleatorias...\n",
    "1000000         10000           4.494           2.568                7.062          \n",
    "Generando 100000 consultas aleatorias...\n",
    "1000000         100000          4.494           25.387               29.881         \n",
    "Generando 1000000 consultas aleatorias...\n",
    "1000000         1000000         4.494           261.468              265.962        \n",
    "Generando texto aleatorio de 10000000 caracteres...\n",
    "Generando 1000 consultas aleatorias...\n",
    "10000000        1000            63.689          2.723                66.412         \n",
    "Generando 10000 consultas aleatorias...\n",
    "10000000        10000           63.689          28.090               91.779         \n",
    "Generando 100000 consultas aleatorias...\n",
    "10000000        100000          63.689          279.458              343.147        \n",
    "Generando 1000000 consultas aleatorias...\n",
    "10000000        1000000         63.689          2810.046             2873.735       \n",
    "================================================================================\n",
    "'''\n"
   ]
  }
 ],
 "metadata": {
  "kernelspec": {
   "display_name": ".venv",
   "language": "python",
   "name": "python3"
  },
  "language_info": {
   "codemirror_mode": {
    "name": "ipython",
    "version": 3
   },
   "file_extension": ".py",
   "mimetype": "text/x-python",
   "name": "python",
   "nbconvert_exporter": "python",
   "pygments_lexer": "ipython3",
   "version": "3.12.3"
  }
 },
 "nbformat": 4,
 "nbformat_minor": 2
}
