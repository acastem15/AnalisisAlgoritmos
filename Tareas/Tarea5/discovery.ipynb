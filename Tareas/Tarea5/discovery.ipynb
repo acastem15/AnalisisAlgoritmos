{
 "cells": [
  {
   "cell_type": "code",
   "execution_count": null,
   "metadata": {},
   "outputs": [],
   "source": [
    "'''\n",
    "Ejecutando experimentos de rendimiento:\n",
    "================================================================================\n",
    "Tamaño texto    Num consultas   Tiempo SA (s)   Tiempo consultas (s) Tiempo total (s)\n",
    "--------------------------------------------------------------------------------\n",
    "Generando texto aleatorio de 100000 caracteres...\n",
    "Generando 1000 consultas aleatorias...\n",
    "Generando 10000 consultas aleatorias...\n",
    "100000          1000            0.336           0.021                0.357          \n",
    "100000          10000           0.336           0.200                0.535          \n",
    "Generando 100000 consultas aleatorias...\n",
    "100000          100000          0.336           1.942                2.278          \n",
    "Generando 1000000 consultas aleatorias...\n",
    "100000          1000000         0.336           19.429               19.765         \n",
    "Generando texto aleatorio de 1000000 caracteres...\n",
    "Generando 1000 consultas aleatorias...\n",
    "1000000         1000            4.494           0.287                4.781          \n",
    "Generando 10000 consultas aleatorias...\n",
    "1000000         10000           4.494           2.568                7.062          \n",
    "Generando 100000 consultas aleatorias...\n",
    "1000000         100000          4.494           25.387               29.881         \n",
    "Generando 1000000 consultas aleatorias...\n",
    "1000000         1000000         4.494           261.468              265.962        \n",
    "Generando texto aleatorio de 10000000 caracteres...\n",
    "Generando 1000 consultas aleatorias...\n",
    "10000000        1000            63.689          2.723                66.412         \n",
    "Generando 10000 consultas aleatorias...\n",
    "10000000        10000           63.689          28.090               91.779         \n",
    "Generando 100000 consultas aleatorias...\n",
    "10000000        100000          63.689          279.458              343.147        \n",
    "Generando 1000000 consultas aleatorias...\n",
    "10000000        1000000         63.689          2810.046             2873.735       \n",
    "================================================================================\n",
    "'''\n"
   ]
  }
 ],
 "metadata": {
  "kernelspec": {
   "display_name": ".venv",
   "language": "python",
   "name": "python3"
  },
  "language_info": {
   "codemirror_mode": {
    "name": "ipython",
    "version": 3
   },
   "file_extension": ".py",
   "mimetype": "text/x-python",
   "name": "python",
   "nbconvert_exporter": "python",
   "pygments_lexer": "ipython3",
   "version": "3.12.3"
  }
 },
 "nbformat": 4,
 "nbformat_minor": 2
}
