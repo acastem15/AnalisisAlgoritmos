{
 "cells": [
  {
   "cell_type": "code",
   "execution_count": 77,
   "metadata": {},
   "outputs": [],
   "source": [
    "import math"
   ]
  },
  {
   "cell_type": "code",
   "execution_count": null,
   "metadata": {},
   "outputs": [],
   "source": [
    "def shannon_fano_coding(file_path:str)->tuple[str, dict]:\n",
    "    \"\"\"Shannon-Fano coding algorithm\n",
    "\n",
    "    Args:\n",
    "        file_path (str): _description_\n",
    "        dict (_type_): _description_\n",
    "\n",
    "    Returns:\n",
    "        _type_: _description_\n",
    "    \"\"\"    \n",
    "    \n",
    "    with open(file_path, 'r') as f:\n",
    "        file=f.read()\n",
    "        \n",
    "    set_of_chars = set(file)\n",
    "\n",
    "    # Calcular la probabilidad de cada símbolo y la longitud de su código\n",
    "    # según el techo de -log2(p)\n",
    "    char_prob = {}\n",
    "    char_code_length = {}\n",
    "    for char in set_of_chars:\n",
    "        char_prob[char] = file.count(char)/len(file) # probabilidad\n",
    "        char_code_length[char] = math.ceil(-math.log2(char_prob[char])) # longitud\n",
    "        \n",
    "    # Valor esperado de bits por símbolo\n",
    "    average_bits = sum(char_prob[char]*char_code_length[char] for char in set_of_chars)\n",
    "    print(f\"Valor esperado de bits por símbolo: {average_bits}\")\n",
    "    # Entropía en el peor caso\n",
    "    entropy_worst_case = math.log2(len(set_of_chars))\n",
    "    print(f\"Entropía en el peor caso: {entropy_worst_case}\")\n",
    "    # Entropía de Shannon\n",
    "    entropy =-sum(char_prob[char]*math.log2(char_prob[char]) for char in set_of_chars)\n",
    "    print(f\"Entropía de Shannon: {entropy}\")\n",
    "    # Total de bits necesarios para codificar el archivo\n",
    "    total_bits  = sum(char_code_length[char] for char in file)\n",
    "    print(f\"Total de bits necesarios: {total_bits}\")\n",
    "    \n",
    "    # Algoritmo de codificación Shannon-Fano:\n",
    "    l_sf = sorted(char_code_length.items(), key=lambda x: x[1])\n",
    "    b_sf = {l_sf[0][0]: bin(0)[2:].zfill(l_sf[0][1])}\n",
    "\n",
    "    # BSF[i]=(BSF[i-1]+1)*2d[i] where d[i] = LSF[i]-LSF[i-1]\n",
    "    for i in range(1, len(l_sf)):\n",
    "        d_i = l_sf[i][1]-l_sf[i-1][1]\n",
    "        b_sf[l_sf[i][0]] = bin((int(b_sf[l_sf[i-1][0]], 2)+1)*2**(d_i))[2:].zfill(l_sf[i][1])\n",
    "        \n",
    "        \n",
    "    coded_file = \"\".join(b_sf[symbol] for symbol in file)\n",
    "    \n",
    "    return coded_file, b_sf\n",
    "\n",
    "\n",
    "def decode_sf(coded_str:str, b_sf:dict)->str:\n",
    "    \"\"\"Decodifica la cadena codificada 'coded_str' usando el diccionario de códigos 'b_sf'.\n",
    "    b_sf: diccionario con mapeo símbolo -> código.\n",
    "\n",
    "    Args:\n",
    "        coded_str (str): _description_\n",
    "        b_sf (dict): _description_\n",
    "\n",
    "    Returns:\n",
    "        str: _description_\n",
    "    \"\"\"    \n",
    "    \n",
    "    # Crear el diccionario inverso: código -> símbolo\n",
    "    inv_b_sf = {code: symbol for symbol, code in b_sf.items()}\n",
    "    \n",
    "    decoded = \"\"\n",
    "    current_code = \"\"\n",
    "    for bit in coded_str:\n",
    "        current_code += bit\n",
    "        # Si la secuencia acumulada coincide con un código, se añade el símbolo correspondiente\n",
    "        if current_code in inv_b_sf:\n",
    "            decoded += inv_b_sf[current_code]\n",
    "            current_code = \"\"\n",
    "    return decoded"
   ]
  },
  {
   "cell_type": "code",
   "execution_count": null,
   "metadata": {},
   "outputs": [
    {
     "name": "stdout",
     "output_type": "stream",
     "text": [
      "Average bits per symbol: 4.805825242718447\n",
      "Worst case: 10\n",
      "Entropy in worst case: 5.426264754702098\n",
      "Shannon entropy: 4.320853622585619\n",
      "Total bits: 3960\n"
     ]
    }
   ],
   "source": [
    "coded_file, b_sf = shannon_fano_coding(\"../test_files/song_1.txt\")"
   ]
  },
  {
   "cell_type": "code",
   "execution_count": 96,
   "metadata": {},
   "outputs": [
    {
     "name": "stdout",
     "output_type": "stream",
     "text": [
      "La decodificación es correcta, el texto recuperado coincide con el original.\n"
     ]
    }
   ],
   "source": [
    "decoded_text = decode_sf(coded_file, b_sf)\n",
    "\n",
    "if decoded_text == file:\n",
    "    print(\"La decodificación es correcta, el texto recuperado coincide con el original.\")\n",
    "else:\n",
    "    print(\"Error en la decodificación, el texto recuperado no coincide.\")"
   ]
  },
  {
   "cell_type": "code",
   "execution_count": null,
   "metadata": {},
   "outputs": [
    {
     "name": "stdout",
     "output_type": "stream",
     "text": [
      "0 extra_padding\n",
      "El archivo se escribió y leyó correctamente en bytes reales.\n"
     ]
    }
   ],
   "source": [
    "\n",
    "\n",
    "# Ejemplo de uso:\n",
    "\n",
    "# Suponiendo que 'coded_file' es la cadena de bits obtenida al comprimir el texto:\n",
    "write_bits_to_file(coded_file, \"compressed_file.bin\")\n",
    "\n",
    "# Para verificar, leemos el archivo y decodificamos el bitstring resultante:\n",
    "bitstring_leido = read_bits_from_file(\"compressed_file.bin\")\n",
    "if bitstring_leido == coded_file:\n",
    "    print(\"El archivo se escribió y leyó correctamente en bytes reales.\")\n",
    "else:\n",
    "    print(\"Hay diferencias entre la cadena original y la leída del archivo.\")\n"
   ]
  },
  {
   "cell_type": "code",
   "execution_count": null,
   "metadata": {},
   "outputs": [],
   "source": [
    "# Check the size of a file given the path\n",
    "\n"
   ]
  },
  {
   "cell_type": "code",
   "execution_count": null,
   "metadata": {},
   "outputs": [],
   "source": [
    "file"
   ]
  }
 ],
 "metadata": {
  "kernelspec": {
   "display_name": ".venv",
   "language": "python",
   "name": "python3"
  },
  "language_info": {
   "codemirror_mode": {
    "name": "ipython",
    "version": 3
   },
   "file_extension": ".py",
   "mimetype": "text/x-python",
   "name": "python",
   "nbconvert_exporter": "python",
   "pygments_lexer": "ipython3",
   "version": "3.12.3"
  }
 },
 "nbformat": 4,
 "nbformat_minor": 2
}
